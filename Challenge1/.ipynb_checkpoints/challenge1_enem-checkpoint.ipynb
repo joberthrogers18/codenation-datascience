{
 "cells": [
  {
   "cell_type": "code",
   "execution_count": 53,
   "metadata": {},
   "outputs": [],
   "source": [
    "import pandas as pd\n",
    "import matplotlib.pyplot as plt\n",
    "import numpy as np\n",
    "%matplotlib inline"
   ]
  },
  {
   "cell_type": "code",
   "execution_count": 54,
   "metadata": {},
   "outputs": [],
   "source": [
    "dataset_train = pd.read_csv('train.csv')"
   ]
  },
  {
   "cell_type": "code",
   "execution_count": 55,
   "metadata": {},
   "outputs": [
    {
     "data": {
      "text/html": [
       "<div>\n",
       "<style scoped>\n",
       "    .dataframe tbody tr th:only-of-type {\n",
       "        vertical-align: middle;\n",
       "    }\n",
       "\n",
       "    .dataframe tbody tr th {\n",
       "        vertical-align: top;\n",
       "    }\n",
       "\n",
       "    .dataframe thead th {\n",
       "        text-align: right;\n",
       "    }\n",
       "</style>\n",
       "<table border=\"1\" class=\"dataframe\">\n",
       "  <thead>\n",
       "    <tr style=\"text-align: right;\">\n",
       "      <th></th>\n",
       "      <th>Unnamed: 0</th>\n",
       "      <th>NU_INSCRICAO</th>\n",
       "      <th>NU_ANO</th>\n",
       "      <th>CO_MUNICIPIO_RESIDENCIA</th>\n",
       "      <th>NO_MUNICIPIO_RESIDENCIA</th>\n",
       "      <th>CO_UF_RESIDENCIA</th>\n",
       "      <th>SG_UF_RESIDENCIA</th>\n",
       "      <th>NU_IDADE</th>\n",
       "      <th>TP_SEXO</th>\n",
       "      <th>TP_ESTADO_CIVIL</th>\n",
       "      <th>...</th>\n",
       "      <th>Q041</th>\n",
       "      <th>Q042</th>\n",
       "      <th>Q043</th>\n",
       "      <th>Q044</th>\n",
       "      <th>Q045</th>\n",
       "      <th>Q046</th>\n",
       "      <th>Q047</th>\n",
       "      <th>Q048</th>\n",
       "      <th>Q049</th>\n",
       "      <th>Q050</th>\n",
       "    </tr>\n",
       "  </thead>\n",
       "  <tbody>\n",
       "    <tr>\n",
       "      <th>0</th>\n",
       "      <td>1</td>\n",
       "      <td>ed50e8aaa58e7a806c337585efee9ca41f1eb1ad</td>\n",
       "      <td>2016</td>\n",
       "      <td>4314902</td>\n",
       "      <td>Porto Alegre</td>\n",
       "      <td>43</td>\n",
       "      <td>RS</td>\n",
       "      <td>24</td>\n",
       "      <td>M</td>\n",
       "      <td>0.0</td>\n",
       "      <td>...</td>\n",
       "      <td>5.0</td>\n",
       "      <td>A</td>\n",
       "      <td>A</td>\n",
       "      <td>A</td>\n",
       "      <td>A</td>\n",
       "      <td>A</td>\n",
       "      <td>A</td>\n",
       "      <td>A</td>\n",
       "      <td>B</td>\n",
       "      <td>D</td>\n",
       "    </tr>\n",
       "    <tr>\n",
       "      <th>1</th>\n",
       "      <td>2</td>\n",
       "      <td>2c3acac4b33ec2b195d77e7c04a2d75727fad723</td>\n",
       "      <td>2016</td>\n",
       "      <td>2304707</td>\n",
       "      <td>Granja</td>\n",
       "      <td>23</td>\n",
       "      <td>CE</td>\n",
       "      <td>17</td>\n",
       "      <td>F</td>\n",
       "      <td>0.0</td>\n",
       "      <td>...</td>\n",
       "      <td>NaN</td>\n",
       "      <td>A</td>\n",
       "      <td>A</td>\n",
       "      <td>C</td>\n",
       "      <td>A</td>\n",
       "      <td>B</td>\n",
       "      <td>A</td>\n",
       "      <td>A</td>\n",
       "      <td>C</td>\n",
       "      <td>A</td>\n",
       "    </tr>\n",
       "    <tr>\n",
       "      <th>2</th>\n",
       "      <td>3</td>\n",
       "      <td>f4545f8ccb9ff5c8aad7d32951b3f251a26e6568</td>\n",
       "      <td>2016</td>\n",
       "      <td>2304400</td>\n",
       "      <td>Fortaleza</td>\n",
       "      <td>23</td>\n",
       "      <td>CE</td>\n",
       "      <td>21</td>\n",
       "      <td>F</td>\n",
       "      <td>0.0</td>\n",
       "      <td>...</td>\n",
       "      <td>NaN</td>\n",
       "      <td>A</td>\n",
       "      <td>A</td>\n",
       "      <td>A</td>\n",
       "      <td>A</td>\n",
       "      <td>C</td>\n",
       "      <td>A</td>\n",
       "      <td>A</td>\n",
       "      <td>B</td>\n",
       "      <td>A</td>\n",
       "    </tr>\n",
       "    <tr>\n",
       "      <th>3</th>\n",
       "      <td>4</td>\n",
       "      <td>3d6ec248fef899c414e77f82d5c6d2bffbeaf7fe</td>\n",
       "      <td>2016</td>\n",
       "      <td>3304557</td>\n",
       "      <td>Rio de Janeiro</td>\n",
       "      <td>33</td>\n",
       "      <td>RJ</td>\n",
       "      <td>25</td>\n",
       "      <td>F</td>\n",
       "      <td>0.0</td>\n",
       "      <td>...</td>\n",
       "      <td>5.0</td>\n",
       "      <td>C</td>\n",
       "      <td>A</td>\n",
       "      <td>A</td>\n",
       "      <td>A</td>\n",
       "      <td>A</td>\n",
       "      <td>D</td>\n",
       "      <td>A</td>\n",
       "      <td>A</td>\n",
       "      <td>A</td>\n",
       "    </tr>\n",
       "    <tr>\n",
       "      <th>4</th>\n",
       "      <td>5</td>\n",
       "      <td>bf896ac8d3ecadd6dba1dfbf50110afcbf5d3268</td>\n",
       "      <td>2016</td>\n",
       "      <td>1302603</td>\n",
       "      <td>Manaus</td>\n",
       "      <td>13</td>\n",
       "      <td>AM</td>\n",
       "      <td>28</td>\n",
       "      <td>M</td>\n",
       "      <td>0.0</td>\n",
       "      <td>...</td>\n",
       "      <td>NaN</td>\n",
       "      <td>A</td>\n",
       "      <td>A</td>\n",
       "      <td>A</td>\n",
       "      <td>A</td>\n",
       "      <td>A</td>\n",
       "      <td>A</td>\n",
       "      <td>A</td>\n",
       "      <td>A</td>\n",
       "      <td>A</td>\n",
       "    </tr>\n",
       "  </tbody>\n",
       "</table>\n",
       "<p>5 rows × 167 columns</p>\n",
       "</div>"
      ],
      "text/plain": [
       "   Unnamed: 0                              NU_INSCRICAO  NU_ANO  \\\n",
       "0           1  ed50e8aaa58e7a806c337585efee9ca41f1eb1ad    2016   \n",
       "1           2  2c3acac4b33ec2b195d77e7c04a2d75727fad723    2016   \n",
       "2           3  f4545f8ccb9ff5c8aad7d32951b3f251a26e6568    2016   \n",
       "3           4  3d6ec248fef899c414e77f82d5c6d2bffbeaf7fe    2016   \n",
       "4           5  bf896ac8d3ecadd6dba1dfbf50110afcbf5d3268    2016   \n",
       "\n",
       "   CO_MUNICIPIO_RESIDENCIA NO_MUNICIPIO_RESIDENCIA  CO_UF_RESIDENCIA  \\\n",
       "0                  4314902            Porto Alegre                43   \n",
       "1                  2304707                  Granja                23   \n",
       "2                  2304400               Fortaleza                23   \n",
       "3                  3304557          Rio de Janeiro                33   \n",
       "4                  1302603                  Manaus                13   \n",
       "\n",
       "  SG_UF_RESIDENCIA  NU_IDADE TP_SEXO  TP_ESTADO_CIVIL  ...  Q041  Q042  Q043  \\\n",
       "0               RS        24       M              0.0  ...   5.0     A     A   \n",
       "1               CE        17       F              0.0  ...   NaN     A     A   \n",
       "2               CE        21       F              0.0  ...   NaN     A     A   \n",
       "3               RJ        25       F              0.0  ...   5.0     C     A   \n",
       "4               AM        28       M              0.0  ...   NaN     A     A   \n",
       "\n",
       "  Q044  Q045 Q046  Q047  Q048  Q049  Q050  \n",
       "0    A     A    A     A     A     B     D  \n",
       "1    C     A    B     A     A     C     A  \n",
       "2    A     A    C     A     A     B     A  \n",
       "3    A     A    A     D     A     A     A  \n",
       "4    A     A    A     A     A     A     A  \n",
       "\n",
       "[5 rows x 167 columns]"
      ]
     },
     "execution_count": 55,
     "metadata": {},
     "output_type": "execute_result"
    }
   ],
   "source": [
    "dataset_train.head()"
   ]
  },
  {
   "cell_type": "code",
   "execution_count": 56,
   "metadata": {},
   "outputs": [
    {
     "data": {
      "text/html": [
       "<div>\n",
       "<style scoped>\n",
       "    .dataframe tbody tr th:only-of-type {\n",
       "        vertical-align: middle;\n",
       "    }\n",
       "\n",
       "    .dataframe tbody tr th {\n",
       "        vertical-align: top;\n",
       "    }\n",
       "\n",
       "    .dataframe thead th {\n",
       "        text-align: right;\n",
       "    }\n",
       "</style>\n",
       "<table border=\"1\" class=\"dataframe\">\n",
       "  <thead>\n",
       "    <tr style=\"text-align: right;\">\n",
       "      <th></th>\n",
       "      <th>Unnamed: 0</th>\n",
       "      <th>NU_ANO</th>\n",
       "      <th>CO_MUNICIPIO_RESIDENCIA</th>\n",
       "      <th>CO_UF_RESIDENCIA</th>\n",
       "      <th>NU_IDADE</th>\n",
       "      <th>TP_ESTADO_CIVIL</th>\n",
       "      <th>TP_COR_RACA</th>\n",
       "      <th>TP_NACIONALIDADE</th>\n",
       "      <th>CO_MUNICIPIO_NASCIMENTO</th>\n",
       "      <th>CO_UF_NASCIMENTO</th>\n",
       "      <th>...</th>\n",
       "      <th>Q032</th>\n",
       "      <th>Q033</th>\n",
       "      <th>Q034</th>\n",
       "      <th>Q035</th>\n",
       "      <th>Q036</th>\n",
       "      <th>Q037</th>\n",
       "      <th>Q038</th>\n",
       "      <th>Q039</th>\n",
       "      <th>Q040</th>\n",
       "      <th>Q041</th>\n",
       "    </tr>\n",
       "  </thead>\n",
       "  <tbody>\n",
       "    <tr>\n",
       "      <th>count</th>\n",
       "      <td>13730.000000</td>\n",
       "      <td>13730.0</td>\n",
       "      <td>1.373000e+04</td>\n",
       "      <td>13730.000000</td>\n",
       "      <td>13730.000000</td>\n",
       "      <td>13202.000000</td>\n",
       "      <td>13730.000000</td>\n",
       "      <td>13730.000000</td>\n",
       "      <td>1.312100e+04</td>\n",
       "      <td>13121.000000</td>\n",
       "      <td>...</td>\n",
       "      <td>6354.000000</td>\n",
       "      <td>6354.000000</td>\n",
       "      <td>13730.000000</td>\n",
       "      <td>13730.000000</td>\n",
       "      <td>13730.000000</td>\n",
       "      <td>13730.000000</td>\n",
       "      <td>13730.000000</td>\n",
       "      <td>13730.000000</td>\n",
       "      <td>13730.000000</td>\n",
       "      <td>2938.000000</td>\n",
       "    </tr>\n",
       "    <tr>\n",
       "      <th>mean</th>\n",
       "      <td>2288.173926</td>\n",
       "      <td>2016.0</td>\n",
       "      <td>3.088548e+06</td>\n",
       "      <td>30.736708</td>\n",
       "      <td>21.593809</td>\n",
       "      <td>0.116043</td>\n",
       "      <td>2.185652</td>\n",
       "      <td>1.048871</td>\n",
       "      <td>3.057946e+06</td>\n",
       "      <td>30.429159</td>\n",
       "      <td>...</td>\n",
       "      <td>4.530217</td>\n",
       "      <td>3.962858</td>\n",
       "      <td>4.645594</td>\n",
       "      <td>4.678441</td>\n",
       "      <td>3.341515</td>\n",
       "      <td>4.458995</td>\n",
       "      <td>3.724618</td>\n",
       "      <td>3.506409</td>\n",
       "      <td>4.442098</td>\n",
       "      <td>3.671545</td>\n",
       "    </tr>\n",
       "    <tr>\n",
       "      <th>std</th>\n",
       "      <td>1321.230607</td>\n",
       "      <td>0.0</td>\n",
       "      <td>9.890495e+05</td>\n",
       "      <td>9.862405</td>\n",
       "      <td>7.043654</td>\n",
       "      <td>0.365986</td>\n",
       "      <td>1.007285</td>\n",
       "      <td>0.258895</td>\n",
       "      <td>9.703020e+05</td>\n",
       "      <td>9.670030</td>\n",
       "      <td>...</td>\n",
       "      <td>1.027613</td>\n",
       "      <td>1.625356</td>\n",
       "      <td>0.920998</td>\n",
       "      <td>0.865039</td>\n",
       "      <td>1.711930</td>\n",
       "      <td>1.200172</td>\n",
       "      <td>1.689362</td>\n",
       "      <td>1.718858</td>\n",
       "      <td>1.181549</td>\n",
       "      <td>1.746444</td>\n",
       "    </tr>\n",
       "    <tr>\n",
       "      <th>min</th>\n",
       "      <td>0.000000</td>\n",
       "      <td>2016.0</td>\n",
       "      <td>1.100023e+06</td>\n",
       "      <td>11.000000</td>\n",
       "      <td>13.000000</td>\n",
       "      <td>0.000000</td>\n",
       "      <td>0.000000</td>\n",
       "      <td>0.000000</td>\n",
       "      <td>1.100023e+06</td>\n",
       "      <td>11.000000</td>\n",
       "      <td>...</td>\n",
       "      <td>0.000000</td>\n",
       "      <td>0.000000</td>\n",
       "      <td>0.000000</td>\n",
       "      <td>0.000000</td>\n",
       "      <td>0.000000</td>\n",
       "      <td>0.000000</td>\n",
       "      <td>0.000000</td>\n",
       "      <td>0.000000</td>\n",
       "      <td>0.000000</td>\n",
       "      <td>0.000000</td>\n",
       "    </tr>\n",
       "    <tr>\n",
       "      <th>25%</th>\n",
       "      <td>1144.000000</td>\n",
       "      <td>2016.0</td>\n",
       "      <td>2.307650e+06</td>\n",
       "      <td>23.000000</td>\n",
       "      <td>17.000000</td>\n",
       "      <td>0.000000</td>\n",
       "      <td>1.000000</td>\n",
       "      <td>1.000000</td>\n",
       "      <td>2.306900e+06</td>\n",
       "      <td>23.000000</td>\n",
       "      <td>...</td>\n",
       "      <td>5.000000</td>\n",
       "      <td>3.000000</td>\n",
       "      <td>5.000000</td>\n",
       "      <td>5.000000</td>\n",
       "      <td>2.000000</td>\n",
       "      <td>5.000000</td>\n",
       "      <td>3.000000</td>\n",
       "      <td>2.000000</td>\n",
       "      <td>4.000000</td>\n",
       "      <td>3.000000</td>\n",
       "    </tr>\n",
       "    <tr>\n",
       "      <th>50%</th>\n",
       "      <td>2288.000000</td>\n",
       "      <td>2016.0</td>\n",
       "      <td>3.118601e+06</td>\n",
       "      <td>31.000000</td>\n",
       "      <td>19.000000</td>\n",
       "      <td>0.000000</td>\n",
       "      <td>3.000000</td>\n",
       "      <td>1.000000</td>\n",
       "      <td>3.106200e+06</td>\n",
       "      <td>31.000000</td>\n",
       "      <td>...</td>\n",
       "      <td>5.000000</td>\n",
       "      <td>5.000000</td>\n",
       "      <td>5.000000</td>\n",
       "      <td>5.000000</td>\n",
       "      <td>4.000000</td>\n",
       "      <td>5.000000</td>\n",
       "      <td>5.000000</td>\n",
       "      <td>4.000000</td>\n",
       "      <td>5.000000</td>\n",
       "      <td>5.000000</td>\n",
       "    </tr>\n",
       "    <tr>\n",
       "      <th>75%</th>\n",
       "      <td>3432.000000</td>\n",
       "      <td>2016.0</td>\n",
       "      <td>3.550308e+06</td>\n",
       "      <td>35.000000</td>\n",
       "      <td>23.000000</td>\n",
       "      <td>0.000000</td>\n",
       "      <td>3.000000</td>\n",
       "      <td>1.000000</td>\n",
       "      <td>3.549805e+06</td>\n",
       "      <td>35.000000</td>\n",
       "      <td>...</td>\n",
       "      <td>5.000000</td>\n",
       "      <td>5.000000</td>\n",
       "      <td>5.000000</td>\n",
       "      <td>5.000000</td>\n",
       "      <td>5.000000</td>\n",
       "      <td>5.000000</td>\n",
       "      <td>5.000000</td>\n",
       "      <td>5.000000</td>\n",
       "      <td>5.000000</td>\n",
       "      <td>5.000000</td>\n",
       "    </tr>\n",
       "    <tr>\n",
       "      <th>max</th>\n",
       "      <td>4586.000000</td>\n",
       "      <td>2016.0</td>\n",
       "      <td>5.300108e+06</td>\n",
       "      <td>53.000000</td>\n",
       "      <td>67.000000</td>\n",
       "      <td>3.000000</td>\n",
       "      <td>5.000000</td>\n",
       "      <td>4.000000</td>\n",
       "      <td>5.300108e+06</td>\n",
       "      <td>53.000000</td>\n",
       "      <td>...</td>\n",
       "      <td>5.000000</td>\n",
       "      <td>5.000000</td>\n",
       "      <td>5.000000</td>\n",
       "      <td>5.000000</td>\n",
       "      <td>5.000000</td>\n",
       "      <td>5.000000</td>\n",
       "      <td>5.000000</td>\n",
       "      <td>5.000000</td>\n",
       "      <td>5.000000</td>\n",
       "      <td>5.000000</td>\n",
       "    </tr>\n",
       "  </tbody>\n",
       "</table>\n",
       "<p>8 rows × 107 columns</p>\n",
       "</div>"
      ],
      "text/plain": [
       "         Unnamed: 0   NU_ANO  CO_MUNICIPIO_RESIDENCIA  CO_UF_RESIDENCIA  \\\n",
       "count  13730.000000  13730.0             1.373000e+04      13730.000000   \n",
       "mean    2288.173926   2016.0             3.088548e+06         30.736708   \n",
       "std     1321.230607      0.0             9.890495e+05          9.862405   \n",
       "min        0.000000   2016.0             1.100023e+06         11.000000   \n",
       "25%     1144.000000   2016.0             2.307650e+06         23.000000   \n",
       "50%     2288.000000   2016.0             3.118601e+06         31.000000   \n",
       "75%     3432.000000   2016.0             3.550308e+06         35.000000   \n",
       "max     4586.000000   2016.0             5.300108e+06         53.000000   \n",
       "\n",
       "           NU_IDADE  TP_ESTADO_CIVIL   TP_COR_RACA  TP_NACIONALIDADE  \\\n",
       "count  13730.000000     13202.000000  13730.000000      13730.000000   \n",
       "mean      21.593809         0.116043      2.185652          1.048871   \n",
       "std        7.043654         0.365986      1.007285          0.258895   \n",
       "min       13.000000         0.000000      0.000000          0.000000   \n",
       "25%       17.000000         0.000000      1.000000          1.000000   \n",
       "50%       19.000000         0.000000      3.000000          1.000000   \n",
       "75%       23.000000         0.000000      3.000000          1.000000   \n",
       "max       67.000000         3.000000      5.000000          4.000000   \n",
       "\n",
       "       CO_MUNICIPIO_NASCIMENTO  CO_UF_NASCIMENTO  ...         Q032  \\\n",
       "count             1.312100e+04      13121.000000  ...  6354.000000   \n",
       "mean              3.057946e+06         30.429159  ...     4.530217   \n",
       "std               9.703020e+05          9.670030  ...     1.027613   \n",
       "min               1.100023e+06         11.000000  ...     0.000000   \n",
       "25%               2.306900e+06         23.000000  ...     5.000000   \n",
       "50%               3.106200e+06         31.000000  ...     5.000000   \n",
       "75%               3.549805e+06         35.000000  ...     5.000000   \n",
       "max               5.300108e+06         53.000000  ...     5.000000   \n",
       "\n",
       "              Q033          Q034          Q035          Q036          Q037  \\\n",
       "count  6354.000000  13730.000000  13730.000000  13730.000000  13730.000000   \n",
       "mean      3.962858      4.645594      4.678441      3.341515      4.458995   \n",
       "std       1.625356      0.920998      0.865039      1.711930      1.200172   \n",
       "min       0.000000      0.000000      0.000000      0.000000      0.000000   \n",
       "25%       3.000000      5.000000      5.000000      2.000000      5.000000   \n",
       "50%       5.000000      5.000000      5.000000      4.000000      5.000000   \n",
       "75%       5.000000      5.000000      5.000000      5.000000      5.000000   \n",
       "max       5.000000      5.000000      5.000000      5.000000      5.000000   \n",
       "\n",
       "               Q038          Q039          Q040         Q041  \n",
       "count  13730.000000  13730.000000  13730.000000  2938.000000  \n",
       "mean       3.724618      3.506409      4.442098     3.671545  \n",
       "std        1.689362      1.718858      1.181549     1.746444  \n",
       "min        0.000000      0.000000      0.000000     0.000000  \n",
       "25%        3.000000      2.000000      4.000000     3.000000  \n",
       "50%        5.000000      4.000000      5.000000     5.000000  \n",
       "75%        5.000000      5.000000      5.000000     5.000000  \n",
       "max        5.000000      5.000000      5.000000     5.000000  \n",
       "\n",
       "[8 rows x 107 columns]"
      ]
     },
     "execution_count": 56,
     "metadata": {},
     "output_type": "execute_result"
    }
   ],
   "source": [
    "dataset_train.describe()"
   ]
  },
  {
   "cell_type": "code",
   "execution_count": 57,
   "metadata": {},
   "outputs": [],
   "source": [
    "dataset_train = dataset_train.loc[:, ['NU_NOTA_CN', 'NU_NOTA_CH', 'NU_NOTA_LC', 'NU_NOTA_MT', 'NU_NOTA_REDACAO']]"
   ]
  },
  {
   "cell_type": "code",
   "execution_count": 58,
   "metadata": {},
   "outputs": [],
   "source": [
    "# change null values to mean column\n",
    "dataset_train['NU_NOTA_CN'].fillna(dataset_train['NU_NOTA_CN'].mean(), inplace=True)\n",
    "dataset_train['NU_NOTA_CH'].fillna(dataset_train['NU_NOTA_CH'].mean(), inplace=True)\n",
    "dataset_train['NU_NOTA_LC'].fillna(dataset_train['NU_NOTA_LC'].mean(), inplace=True)\n",
    "dataset_train['NU_NOTA_REDACAO'].fillna(dataset_train['NU_NOTA_REDACAO'].mean(), inplace=True)\n",
    "dataset_train['NU_NOTA_MT'].fillna(dataset_train['NU_NOTA_MT'].mean(), inplace=True)"
   ]
  },
  {
   "cell_type": "code",
   "execution_count": null,
   "metadata": {},
   "outputs": [],
   "source": [
    "# OPTIONAL\n",
    "# from sklearn.preprocessing import StandardScaler\n",
    "\n",
    "# scaler = StandardScaler()\n",
    "# scaler.fit(dataset_train)\n",
    "# scaled_df = scaler.transform(dataset_train)\n",
    "# col = ['NU_NOTA_CN', 'NU_NOTA_CH', 'NU_NOTA_LC', 'NU_NOTA_MT', 'NU_NOTA_REDACAO']\n",
    "# dataset_train = pd.DataFrame(scaled_df, columns=col)\n",
    "# dataset_train.head()"
   ]
  },
  {
   "cell_type": "code",
   "execution_count": 59,
   "metadata": {},
   "outputs": [
    {
     "data": {
      "text/plain": [
       "NU_NOTA_CN         0\n",
       "NU_NOTA_CH         0\n",
       "NU_NOTA_LC         0\n",
       "NU_NOTA_MT         0\n",
       "NU_NOTA_REDACAO    0\n",
       "dtype: int64"
      ]
     },
     "execution_count": 59,
     "metadata": {},
     "output_type": "execute_result"
    }
   ],
   "source": [
    "dataset_train.isnull().sum()"
   ]
  },
  {
   "cell_type": "code",
   "execution_count": null,
   "metadata": {},
   "outputs": [],
   "source": []
  },
  {
   "cell_type": "code",
   "execution_count": 60,
   "metadata": {},
   "outputs": [
    {
     "data": {
      "text/plain": [
       "<matplotlib.axes._subplots.AxesSubplot at 0x7feb5218fd30>"
      ]
     },
     "execution_count": 60,
     "metadata": {},
     "output_type": "execute_result"
    },
    {
     "data": {
      "image/png": "[encoded data removed]",
      "text/plain": [
       "<Figure size 432x288 with 1 Axes>"
      ]
     },
     "metadata": {
      "needs_background": "light"
     },
     "output_type": "display_data"
    }
   ],
   "source": [
    "# box plot\n",
    "dataset_train.boxplot()"
   ]
  },
  {
   "cell_type": "code",
   "execution_count": 61,
   "metadata": {},
   "outputs": [
    {
     "data": {
      "text/html": [
       "<div>\n",
       "<style scoped>\n",
       "    .dataframe tbody tr th:only-of-type {\n",
       "        vertical-align: middle;\n",
       "    }\n",
       "\n",
       "    .dataframe tbody tr th {\n",
       "        vertical-align: top;\n",
       "    }\n",
       "\n",
       "    .dataframe thead th {\n",
       "        text-align: right;\n",
       "    }\n",
       "</style>\n",
       "<table border=\"1\" class=\"dataframe\">\n",
       "  <thead>\n",
       "    <tr style=\"text-align: right;\">\n",
       "      <th></th>\n",
       "      <th>NU_NOTA_CN</th>\n",
       "      <th>NU_NOTA_CH</th>\n",
       "      <th>NU_NOTA_LC</th>\n",
       "      <th>NU_NOTA_MT</th>\n",
       "      <th>NU_NOTA_REDACAO</th>\n",
       "    </tr>\n",
       "  </thead>\n",
       "  <tbody>\n",
       "    <tr>\n",
       "      <th>count</th>\n",
       "      <td>13730.000000</td>\n",
       "      <td>13730.000000</td>\n",
       "      <td>13730.000000</td>\n",
       "      <td>13730.000000</td>\n",
       "      <td>13730.000000</td>\n",
       "    </tr>\n",
       "    <tr>\n",
       "      <th>mean</th>\n",
       "      <td>473.495155</td>\n",
       "      <td>529.661087</td>\n",
       "      <td>516.472841</td>\n",
       "      <td>482.497928</td>\n",
       "      <td>529.048258</td>\n",
       "    </tr>\n",
       "    <tr>\n",
       "      <th>std</th>\n",
       "      <td>61.698098</td>\n",
       "      <td>63.982840</td>\n",
       "      <td>59.007907</td>\n",
       "      <td>85.757718</td>\n",
       "      <td>132.549871</td>\n",
       "    </tr>\n",
       "    <tr>\n",
       "      <th>min</th>\n",
       "      <td>0.000000</td>\n",
       "      <td>0.000000</td>\n",
       "      <td>0.000000</td>\n",
       "      <td>0.000000</td>\n",
       "      <td>0.000000</td>\n",
       "    </tr>\n",
       "    <tr>\n",
       "      <th>25%</th>\n",
       "      <td>432.600000</td>\n",
       "      <td>498.800000</td>\n",
       "      <td>490.100000</td>\n",
       "      <td>426.100000</td>\n",
       "      <td>480.000000</td>\n",
       "    </tr>\n",
       "    <tr>\n",
       "      <th>50%</th>\n",
       "      <td>473.495155</td>\n",
       "      <td>529.661087</td>\n",
       "      <td>516.472841</td>\n",
       "      <td>482.497928</td>\n",
       "      <td>529.048258</td>\n",
       "    </tr>\n",
       "    <tr>\n",
       "      <th>75%</th>\n",
       "      <td>493.200000</td>\n",
       "      <td>564.400000</td>\n",
       "      <td>548.300000</td>\n",
       "      <td>504.400000</td>\n",
       "      <td>580.000000</td>\n",
       "    </tr>\n",
       "    <tr>\n",
       "      <th>max</th>\n",
       "      <td>806.400000</td>\n",
       "      <td>807.000000</td>\n",
       "      <td>763.600000</td>\n",
       "      <td>952.000000</td>\n",
       "      <td>1000.000000</td>\n",
       "    </tr>\n",
       "  </tbody>\n",
       "</table>\n",
       "</div>"
      ],
      "text/plain": [
       "         NU_NOTA_CN    NU_NOTA_CH    NU_NOTA_LC    NU_NOTA_MT  NU_NOTA_REDACAO\n",
       "count  13730.000000  13730.000000  13730.000000  13730.000000     13730.000000\n",
       "mean     473.495155    529.661087    516.472841    482.497928       529.048258\n",
       "std       61.698098     63.982840     59.007907     85.757718       132.549871\n",
       "min        0.000000      0.000000      0.000000      0.000000         0.000000\n",
       "25%      432.600000    498.800000    490.100000    426.100000       480.000000\n",
       "50%      473.495155    529.661087    516.472841    482.497928       529.048258\n",
       "75%      493.200000    564.400000    548.300000    504.400000       580.000000\n",
       "max      806.400000    807.000000    763.600000    952.000000      1000.000000"
      ]
     },
     "execution_count": 61,
     "metadata": {},
     "output_type": "execute_result"
    }
   ],
   "source": [
    "# maybe it is not a outliers\n",
    "dataset_train.describe()"
   ]
  },
  {
   "cell_type": "code",
   "execution_count": 62,
   "metadata": {},
   "outputs": [],
   "source": [
    "# verify possible outliers by zscore\n",
    "from scipy import stats\n",
    "import numpy as np\n",
    "\n",
    "z = np.abs(stats.zscore(dataset_train))\n",
    "\n",
    "threshold = 3\n",
    "possible_outliers = np.where(z >= threshold)\n",
    "\n",
    "dataset_train = dataset_train.drop( np.unique(np.sort(possible_outliers[0])) )"
   ]
  },
  {
   "cell_type": "code",
   "execution_count": 63,
   "metadata": {},
   "outputs": [
    {
     "data": {
      "text/html": [
       "<div>\n",
       "<style scoped>\n",
       "    .dataframe tbody tr th:only-of-type {\n",
       "        vertical-align: middle;\n",
       "    }\n",
       "\n",
       "    .dataframe tbody tr th {\n",
       "        vertical-align: top;\n",
       "    }\n",
       "\n",
       "    .dataframe thead th {\n",
       "        text-align: right;\n",
       "    }\n",
       "</style>\n",
       "<table border=\"1\" class=\"dataframe\">\n",
       "  <thead>\n",
       "    <tr style=\"text-align: right;\">\n",
       "      <th></th>\n",
       "      <th>NU_NOTA_CN</th>\n",
       "      <th>NU_NOTA_CH</th>\n",
       "      <th>NU_NOTA_LC</th>\n",
       "      <th>NU_NOTA_MT</th>\n",
       "      <th>NU_NOTA_REDACAO</th>\n",
       "    </tr>\n",
       "  </thead>\n",
       "  <tbody>\n",
       "    <tr>\n",
       "      <th>count</th>\n",
       "      <td>13149.000000</td>\n",
       "      <td>13149.000000</td>\n",
       "      <td>13149.000000</td>\n",
       "      <td>13149.000000</td>\n",
       "      <td>13149.000000</td>\n",
       "    </tr>\n",
       "    <tr>\n",
       "      <th>mean</th>\n",
       "      <td>470.436095</td>\n",
       "      <td>527.937232</td>\n",
       "      <td>515.460947</td>\n",
       "      <td>477.579827</td>\n",
       "      <td>533.587759</td>\n",
       "    </tr>\n",
       "    <tr>\n",
       "      <th>std</th>\n",
       "      <td>54.638716</td>\n",
       "      <td>59.483451</td>\n",
       "      <td>54.887520</td>\n",
       "      <td>74.474269</td>\n",
       "      <td>106.066307</td>\n",
       "    </tr>\n",
       "    <tr>\n",
       "      <th>min</th>\n",
       "      <td>344.800000</td>\n",
       "      <td>337.800000</td>\n",
       "      <td>342.000000</td>\n",
       "      <td>320.500000</td>\n",
       "      <td>140.000000</td>\n",
       "    </tr>\n",
       "    <tr>\n",
       "      <th>25%</th>\n",
       "      <td>432.500000</td>\n",
       "      <td>499.700000</td>\n",
       "      <td>491.400000</td>\n",
       "      <td>425.900000</td>\n",
       "      <td>480.000000</td>\n",
       "    </tr>\n",
       "    <tr>\n",
       "      <th>50%</th>\n",
       "      <td>473.495155</td>\n",
       "      <td>529.661087</td>\n",
       "      <td>516.472841</td>\n",
       "      <td>482.497928</td>\n",
       "      <td>529.048258</td>\n",
       "    </tr>\n",
       "    <tr>\n",
       "      <th>75%</th>\n",
       "      <td>489.000000</td>\n",
       "      <td>560.600000</td>\n",
       "      <td>545.600000</td>\n",
       "      <td>498.400000</td>\n",
       "      <td>580.000000</td>\n",
       "    </tr>\n",
       "    <tr>\n",
       "      <th>max</th>\n",
       "      <td>658.300000</td>\n",
       "      <td>719.400000</td>\n",
       "      <td>690.700000</td>\n",
       "      <td>739.700000</td>\n",
       "      <td>920.000000</td>\n",
       "    </tr>\n",
       "  </tbody>\n",
       "</table>\n",
       "</div>"
      ],
      "text/plain": [
       "         NU_NOTA_CN    NU_NOTA_CH    NU_NOTA_LC    NU_NOTA_MT  NU_NOTA_REDACAO\n",
       "count  13149.000000  13149.000000  13149.000000  13149.000000     13149.000000\n",
       "mean     470.436095    527.937232    515.460947    477.579827       533.587759\n",
       "std       54.638716     59.483451     54.887520     74.474269       106.066307\n",
       "min      344.800000    337.800000    342.000000    320.500000       140.000000\n",
       "25%      432.500000    499.700000    491.400000    425.900000       480.000000\n",
       "50%      473.495155    529.661087    516.472841    482.497928       529.048258\n",
       "75%      489.000000    560.600000    545.600000    498.400000       580.000000\n",
       "max      658.300000    719.400000    690.700000    739.700000       920.000000"
      ]
     },
     "execution_count": 63,
     "metadata": {},
     "output_type": "execute_result"
    }
   ],
   "source": [
    "dataset_train.describe()"
   ]
  },
  {
   "cell_type": "code",
   "execution_count": null,
   "metadata": {},
   "outputs": [],
   "source": [
    "# dataset_train.drop( \n",
    "#     dataset_train['NU_NOTA_CN'].loc[\n",
    "#         dataset_train['NU_NOTA_CN'] < dataset_train[\"NU_NOTA_CN\"].quantile(0.35)\n",
    "#     ].index\n",
    "# )\n",
    "\n",
    "# dataset_train.drop( \n",
    "#     dataset_train['NU_NOTA_CH'].loc[\n",
    "#         dataset_train['NU_NOTA_CH'] < dataset_train[\"NU_NOTA_CH\"].quantile(0.35)\n",
    "#     ].index\n",
    "# )\n",
    "# dataset_train.drop( \n",
    "#     dataset_train['NU_NOTA_LC'].loc[\n",
    "#         dataset_train['NU_NOTA_LC'] < dataset_train[\"NU_NOTA_LC\"].quantile(0.35)\n",
    "#     ].index\n",
    "# )\n",
    "# dataset_train.drop( \n",
    "#     dataset_train['NU_NOTA_REDACAO'].loc[\n",
    "#         dataset_train['NU_NOTA_REDACAO'] < dataset_train[\"NU_NOTA_REDACAO\"].quantile(0.35)\n",
    "#     ].index\n",
    "# )\n",
    "# dataset_train.drop( \n",
    "#     dataset_train['NU_NOTA_MT'].loc[\n",
    "#         dataset_train['NU_NOTA_MT'] < dataset_train[\"NU_NOTA_MT\"].quantile(0.35)\n",
    "#     ].index\n",
    "# )"
   ]
  },
  {
   "cell_type": "code",
   "execution_count": 64,
   "metadata": {},
   "outputs": [
    {
     "name": "stdout",
     "output_type": "stream",
     "text": [
      "(13149, 5)\n"
     ]
    },
    {
     "data": {
      "text/plain": [
       "<matplotlib.axes._subplots.AxesSubplot at 0x7feb51e37dd8>"
      ]
     },
     "execution_count": 64,
     "metadata": {},
     "output_type": "execute_result"
    },
    {
     "data": {
      "image/png": "[encoded data removed]",
      "text/plain": [
       "<Figure size 432x288 with 1 Axes>"
      ]
     },
     "metadata": {
      "needs_background": "light"
     },
     "output_type": "display_data"
    }
   ],
   "source": [
    "print(dataset_train.shape)\n",
    "dataset_train.boxplot()"
   ]
  },
  {
   "cell_type": "code",
   "execution_count": 65,
   "metadata": {},
   "outputs": [],
   "source": [
    "# variables independents (x) and the predict variable (y)\n",
    "x = dataset_train.loc[:, ['NU_NOTA_CN', 'NU_NOTA_CH', 'NU_NOTA_LC', 'NU_NOTA_REDACAO']]\n",
    "y = dataset_train.loc[:, ['NU_NOTA_MT']]"
   ]
  },
  {
   "cell_type": "code",
   "execution_count": 66,
   "metadata": {},
   "outputs": [],
   "source": [
    "from sklearn.model_selection import train_test_split\n",
    "\n",
    "x_train, x_test, y_train, y_test = train_test_split(x, y, test_size=0.2)"
   ]
  },
  {
   "cell_type": "code",
   "execution_count": 67,
   "metadata": {},
   "outputs": [],
   "source": [
    "from sklearn.metrics import r2_score\n",
    "from sklearn import metrics"
   ]
  },
  {
   "cell_type": "code",
   "execution_count": 68,
   "metadata": {},
   "outputs": [
    {
     "data": {
      "image/png": "[encoded data removed]",
      "text/plain": [
       "<Figure size 1152x576 with 1 Axes>"
      ]
     },
     "metadata": {
      "needs_background": "dark"
     },
     "output_type": "display_data"
    }
   ],
   "source": [
    "fig, ax =  plt.subplots(figsize=(16,8))\n",
    "\n",
    "# 'Distribution of grades'\n",
    "ax.scatter(x_train['NU_NOTA_CN'], y_train['NU_NOTA_MT'])\n",
    "ax.scatter(x_train['NU_NOTA_LC'], y_train['NU_NOTA_MT'])\n",
    "ax.scatter(x_train['NU_NOTA_CH'], y_train['NU_NOTA_MT'])\n",
    "ax.scatter(x_train['NU_NOTA_REDACAO'], y_train['NU_NOTA_MT'])\n",
    "ax.set_xlabel('Grade from others disciplines')\n",
    "ax.set_ylabel('Grade in Math part')\n",
    "\n",
    "COLOR='orange'\n",
    "\n",
    "#color of axis \n",
    "ax.tick_params(axis='x', colors=COLOR)\n",
    "ax.tick_params(axis='y', colors=COLOR)\n",
    "\n",
    "# color of labels\n",
    "ax.yaxis.label.set_color(COLOR)\n",
    "ax.xaxis.label.set_color(COLOR)\n",
    "\n",
    "plt.show()"
   ]
  },
  {
   "cell_type": "code",
   "execution_count": 69,
   "metadata": {},
   "outputs": [
    {
     "data": {
      "text/plain": [
       "LinearRegression(copy_X=True, fit_intercept=True, n_jobs=None, normalize=True)"
      ]
     },
     "execution_count": 69,
     "metadata": {},
     "output_type": "execute_result"
    }
   ],
   "source": [
    "from sklearn.linear_model import LinearRegression\n",
    "\n",
    "regr = LinearRegression(normalize=True)\n",
    "regr.fit(x, y)"
   ]
  },
  {
   "cell_type": "code",
   "execution_count": 70,
   "metadata": {},
   "outputs": [
    {
     "name": "stdout",
     "output_type": "stream",
     "text": [
      "[[0.40665659 0.2117464  0.19267864 0.03518125]]\n",
      "[56.3944822]\n"
     ]
    }
   ],
   "source": [
    "print(regr.coef_)\n",
    "print(regr.intercept_)"
   ]
  },
  {
   "cell_type": "code",
   "execution_count": 71,
   "metadata": {},
   "outputs": [
    {
     "name": "stdout",
     "output_type": "stream",
     "text": [
      "0.3195304137132986\n"
     ]
    }
   ],
   "source": [
    "y_pred_linear = regr.predict(x_test)\n",
    "print(r2_score(y_test, y_pred_linear))"
   ]
  },
  {
   "cell_type": "code",
   "execution_count": 72,
   "metadata": {},
   "outputs": [
    {
     "name": "stdout",
     "output_type": "stream",
     "text": [
      "       NU_NOTA_MT\n",
      "13145  482.497928\n",
      "9505   413.700000\n",
      "9681   482.497928\n",
      "824    482.497928\n",
      "4146   482.497928\n",
      "...           ...\n",
      "6035   482.497928\n",
      "8250   437.900000\n",
      "2422   362.000000\n",
      "5856   482.497928\n",
      "308    393.600000\n",
      "\n",
      "[2630 rows x 1 columns]\n",
      "[[479.22409988]\n",
      " [449.16241891]\n",
      " [479.22409988]\n",
      " ...\n",
      " [385.16037531]\n",
      " [479.22409988]\n",
      " [476.29640907]]\n"
     ]
    }
   ],
   "source": [
    "print(y_test)\n",
    "print(y_pred_linear)"
   ]
  },
  {
   "cell_type": "code",
   "execution_count": 73,
   "metadata": {},
   "outputs": [
    {
     "name": "stdout",
     "output_type": "stream",
     "text": [
      "Mean Absolute Error: 43.6739025194326\n",
      "Mean Squared Error: 3813.9851670261382\n",
      "Root Mean Squared Error: 61.75747053617188\n"
     ]
    }
   ],
   "source": [
    "print('Mean Absolute Error:', metrics.mean_absolute_error(y_test, y_pred_linear))\n",
    "print('Mean Squared Error:', metrics.mean_squared_error(y_test, y_pred_linear))\n",
    "print('Root Mean Squared Error:', np.sqrt(metrics.mean_squared_error(y_test, y_pred_linear)))"
   ]
  },
  {
   "cell_type": "code",
   "execution_count": 74,
   "metadata": {},
   "outputs": [],
   "source": [
    "def equationLinear(x_array, a, b):\n",
    "    values = []\n",
    "    for i in x_array:\n",
    "        values.append(a * i + b)\n",
    "    return np.array(values)"
   ]
  },
  {
   "cell_type": "code",
   "execution_count": 75,
   "metadata": {},
   "outputs": [
    {
     "data": {
      "image/png": "[encoded data removed]",
      "text/plain": [
       "<Figure size 1600x800 with 1 Axes>"
      ]
     },
     "metadata": {
      "needs_background": "dark"
     },
     "output_type": "display_data"
    }
   ],
   "source": [
    "f = plt.figure(figsize=(16, 8), dpi=100)\n",
    "axes = f.add_subplot(111) # create object to subplot\n",
    "\n",
    "# 'Distribution of grades'\n",
    "axes.scatter(x_train['NU_NOTA_CN'], y_train['NU_NOTA_MT'])\n",
    "axes.scatter(x_train['NU_NOTA_LC'], y_train['NU_NOTA_MT'])\n",
    "axes.scatter(x_train['NU_NOTA_CH'], y_train['NU_NOTA_MT'])\n",
    "axes.scatter(x_train['NU_NOTA_REDACAO'], y_train['NU_NOTA_MT'])\n",
    "axes.set_xlabel('Grade from others disciplines')\n",
    "axes.set_ylabel('Grade in Math part')\n",
    "\n",
    "for i in range(len(regr.coef_)):\n",
    "    x_line = np.linspace(0, 1000)\n",
    "    y_line = equationLinear(x_line, regr.coef_[i], regr.intercept_[0])\n",
    "    axes.plot(x_line, y_line)\n",
    "\n",
    "COLOR='orange'\n",
    "\n",
    "#color of axis \n",
    "axes.tick_params(axis='x', colors=COLOR)\n",
    "axes.tick_params(axis='y', colors=COLOR)\n",
    "\n",
    "# color of labels\n",
    "axes.yaxis.label.set_color(COLOR)\n",
    "axes.xaxis.label.set_color(COLOR)\n",
    "\n",
    "plt.show()"
   ]
  },
  {
   "cell_type": "code",
   "execution_count": 76,
   "metadata": {},
   "outputs": [
    {
     "name": "stderr",
     "output_type": "stream",
     "text": [
      "/home/captain-rogers/anaconda3/lib/python3.6/site-packages/sklearn/ensemble/forest.py:245: FutureWarning: The default value of n_estimators will change from 10 in version 0.20 to 100 in 0.22.\n",
      "  \"10 in version 0.20 to 100 in 0.22.\", FutureWarning)\n",
      "/home/captain-rogers/anaconda3/lib/python3.6/site-packages/ipykernel_launcher.py:3: DataConversionWarning: A column-vector y was passed when a 1d array was expected. Please change the shape of y to (n_samples,), for example using ravel().\n",
      "  This is separate from the ipykernel package so we can avoid doing imports until\n"
     ]
    }
   ],
   "source": [
    "from sklearn.ensemble import RandomForestRegressor\n",
    "\n",
    "randomRegr = RandomForestRegressor().fit(x_train, y_train)"
   ]
  },
  {
   "cell_type": "code",
   "execution_count": 77,
   "metadata": {},
   "outputs": [
    {
     "name": "stdout",
     "output_type": "stream",
     "text": [
      "0.21933565002699507\n"
     ]
    }
   ],
   "source": [
    "y_pred_random_reg = randomRegr.predict(x_test)\n",
    "print(r2_score(y_test, y_pred_random_reg))"
   ]
  },
  {
   "cell_type": "code",
   "execution_count": null,
   "metadata": {},
   "outputs": [],
   "source": []
  },
  {
   "cell_type": "code",
   "execution_count": 78,
   "metadata": {},
   "outputs": [
    {
     "name": "stdout",
     "output_type": "stream",
     "text": [
      "       NU_NOTA_MT\n",
      "13145  482.497928\n",
      "9505   413.700000\n",
      "9681   482.497928\n",
      "824    482.497928\n",
      "4146   482.497928\n",
      "...           ...\n",
      "6035   482.497928\n",
      "8250   437.900000\n",
      "2422   362.000000\n",
      "5856   482.497928\n",
      "308    393.600000\n",
      "\n",
      "[2630 rows x 1 columns]\n",
      "[482.49792756 440.7        482.49792756 ... 422.75       482.49792756\n",
      " 446.59      ]\n"
     ]
    }
   ],
   "source": [
    "print(y_test)\n",
    "print(y_pred_random_reg)"
   ]
  },
  {
   "cell_type": "code",
   "execution_count": 79,
   "metadata": {},
   "outputs": [
    {
     "name": "stdout",
     "output_type": "stream",
     "text": [
      "Mean Absolute Error: 44.35344494572061\n",
      "Mean Squared Error: 4375.569917049402\n",
      "Root Mean Squared Error: 66.14809080426586\n"
     ]
    }
   ],
   "source": [
    "print('Mean Absolute Error:', metrics.mean_absolute_error(y_test, y_pred_random_reg))\n",
    "print('Mean Squared Error:', metrics.mean_squared_error(y_test, y_pred_random_reg))\n",
    "print('Root Mean Squared Error:', np.sqrt(metrics.mean_squared_error(y_test, y_pred_random_reg)))"
   ]
  },
  {
   "cell_type": "code",
   "execution_count": 80,
   "metadata": {},
   "outputs": [
    {
     "data": {
      "text/plain": [
       "DecisionTreeRegressor(criterion='mse', max_depth=None, max_features=None,\n",
       "                      max_leaf_nodes=None, min_impurity_decrease=0.0,\n",
       "                      min_impurity_split=None, min_samples_leaf=1,\n",
       "                      min_samples_split=2, min_weight_fraction_leaf=0.0,\n",
       "                      presort=False, random_state=None, splitter='best')"
      ]
     },
     "execution_count": 80,
     "metadata": {},
     "output_type": "execute_result"
    }
   ],
   "source": [
    "from sklearn.tree import DecisionTreeRegressor\n",
    "\n",
    "decision_tree_regr = DecisionTreeRegressor()\n",
    "decision_tree_regr.fit(x_train, y_train)"
   ]
  },
  {
   "cell_type": "code",
   "execution_count": 81,
   "metadata": {},
   "outputs": [
    {
     "name": "stdout",
     "output_type": "stream",
     "text": [
      "-0.3424125031850862\n"
     ]
    }
   ],
   "source": [
    "y_pred_dec_tree = decision_tree_regr.predict(x_test)\n",
    "print(r2_score(y_test, y_pred_dec_tree.reshape(-1, 1)))"
   ]
  },
  {
   "cell_type": "code",
   "execution_count": 82,
   "metadata": {},
   "outputs": [
    {
     "name": "stdout",
     "output_type": "stream",
     "text": [
      "[482.49792756 346.8        482.49792756 ... 427.1        482.49792756\n",
      " 547.7       ]\n",
      "       NU_NOTA_MT\n",
      "13145  482.497928\n",
      "9505   413.700000\n",
      "9681   482.497928\n",
      "824    482.497928\n",
      "4146   482.497928\n",
      "...           ...\n",
      "6035   482.497928\n",
      "8250   437.900000\n",
      "2422   362.000000\n",
      "5856   482.497928\n",
      "308    393.600000\n",
      "\n",
      "[2630 rows x 1 columns]\n"
     ]
    }
   ],
   "source": [
    "print(y_pred_dec_tree)\n",
    "print(y_test)"
   ]
  },
  {
   "cell_type": "code",
   "execution_count": 83,
   "metadata": {},
   "outputs": [
    {
     "name": "stdout",
     "output_type": "stream",
     "text": [
      "Mean Absolute Error: 57.52904706566251\n",
      "Mean Squared Error: 7524.129628067122\n",
      "Root Mean Squared Error: 86.74174097899535\n"
     ]
    }
   ],
   "source": [
    "print('Mean Absolute Error:', metrics.mean_absolute_error(y_test, y_pred_dec_tree))\n",
    "print('Mean Squared Error:', metrics.mean_squared_error(y_test, y_pred_dec_tree))\n",
    "print('Root Mean Squared Error:', np.sqrt(metrics.mean_squared_error(y_test, y_pred_dec_tree)))"
   ]
  },
  {
   "cell_type": "code",
   "execution_count": 100,
   "metadata": {},
   "outputs": [
    {
     "name": "stderr",
     "output_type": "stream",
     "text": [
      "/home/captain-rogers/anaconda3/lib/python3.6/site-packages/sklearn/utils/validation.py:724: DataConversionWarning: A column-vector y was passed when a 1d array was expected. Please change the shape of y to (n_samples, ), for example using ravel().\n",
      "  y = column_or_1d(y, warn=True)\n"
     ]
    },
    {
     "data": {
      "text/plain": [
       "Pipeline(memory=None,\n",
       "         steps=[('standardscaler',\n",
       "                 StandardScaler(copy=True, with_mean=True, with_std=True)),\n",
       "                ('svr',\n",
       "                 SVR(C=1.0, cache_size=200, coef0=0.0, degree=3, epsilon=0.2,\n",
       "                     gamma='auto_deprecated', kernel='rbf', max_iter=-1,\n",
       "                     shrinking=True, tol=0.001, verbose=False))],\n",
       "         verbose=False)"
      ]
     },
     "execution_count": 100,
     "metadata": {},
     "output_type": "execute_result"
    }
   ],
   "source": [
    "from sklearn.svm import SVR\n",
    "from sklearn.pipeline import make_pipeline\n",
    "from sklearn.preprocessing import StandardScaler\n",
    "\n",
    "regr_SVM = make_pipeline(StandardScaler(), SVR(C=1.0, epsilon=0.2))\n",
    "regr_SVM.fit(x_train, y_train)"
   ]
  },
  {
   "cell_type": "code",
   "execution_count": 101,
   "metadata": {},
   "outputs": [],
   "source": [
    "SVM_pred = regr_SVM.predict(x_test)"
   ]
  },
  {
   "cell_type": "code",
   "execution_count": 102,
   "metadata": {},
   "outputs": [
    {
     "name": "stdout",
     "output_type": "stream",
     "text": [
      "Mean Absolute Error: 42.814273755939624\n",
      "Mean Squared Error: 3874.5011522597115\n",
      "Root Mean Squared Error: 62.245491019508485\n"
     ]
    }
   ],
   "source": [
    "print('Mean Absolute Error:', metrics.mean_absolute_error(y_test, SVM_pred))\n",
    "print('Mean Squared Error:', metrics.mean_squared_error(y_test, SVM_pred))\n",
    "print('Root Mean Squared Error:', np.sqrt(metrics.mean_squared_error(y_test, SVM_pred)))"
   ]
  },
  {
   "cell_type": "code",
   "execution_count": 104,
   "metadata": {},
   "outputs": [
    {
     "name": "stdout",
     "output_type": "stream",
     "text": [
      "       NU_NOTA_MT\n",
      "13145  482.497928\n",
      "9505   413.700000\n",
      "9681   482.497928\n",
      "824    482.497928\n",
      "4146   482.497928\n",
      "...           ...\n",
      "6035   482.497928\n",
      "8250   437.900000\n",
      "2422   362.000000\n",
      "5856   482.497928\n",
      "308    393.600000\n",
      "\n",
      "[2630 rows x 1 columns]\n",
      "[482.29754613 450.2217991  482.29754613 ... 426.78686491 482.29754613\n",
      " 468.68269846]\n"
     ]
    }
   ],
   "source": [
    "print(y_test)\n",
    "print(SVM_pred)"
   ]
  },
  {
   "cell_type": "code",
   "execution_count": 105,
   "metadata": {},
   "outputs": [
    {
     "name": "stdout",
     "output_type": "stream",
     "text": [
      "0.30873349510133397\n"
     ]
    }
   ],
   "source": [
    "print(r2_score(y_test, SVM_pred))"
   ]
  },
  {
   "cell_type": "markdown",
   "metadata": {},
   "source": [
    "## Test part"
   ]
  },
  {
   "cell_type": "code",
   "execution_count": 106,
   "metadata": {},
   "outputs": [],
   "source": [
    "dataset_test = pd.read_csv('test.csv')"
   ]
  },
  {
   "cell_type": "code",
   "execution_count": 107,
   "metadata": {},
   "outputs": [
    {
     "data": {
      "text/html": [
       "<div>\n",
       "<style scoped>\n",
       "    .dataframe tbody tr th:only-of-type {\n",
       "        vertical-align: middle;\n",
       "    }\n",
       "\n",
       "    .dataframe tbody tr th {\n",
       "        vertical-align: top;\n",
       "    }\n",
       "\n",
       "    .dataframe thead th {\n",
       "        text-align: right;\n",
       "    }\n",
       "</style>\n",
       "<table border=\"1\" class=\"dataframe\">\n",
       "  <thead>\n",
       "    <tr style=\"text-align: right;\">\n",
       "      <th></th>\n",
       "      <th>NU_INSCRICAO</th>\n",
       "      <th>CO_UF_RESIDENCIA</th>\n",
       "      <th>SG_UF_RESIDENCIA</th>\n",
       "      <th>NU_IDADE</th>\n",
       "      <th>TP_SEXO</th>\n",
       "      <th>TP_COR_RACA</th>\n",
       "      <th>TP_NACIONALIDADE</th>\n",
       "      <th>TP_ST_CONCLUSAO</th>\n",
       "      <th>TP_ANO_CONCLUIU</th>\n",
       "      <th>TP_ESCOLA</th>\n",
       "      <th>...</th>\n",
       "      <th>NU_NOTA_COMP5</th>\n",
       "      <th>NU_NOTA_REDACAO</th>\n",
       "      <th>Q001</th>\n",
       "      <th>Q002</th>\n",
       "      <th>Q006</th>\n",
       "      <th>Q024</th>\n",
       "      <th>Q025</th>\n",
       "      <th>Q026</th>\n",
       "      <th>Q027</th>\n",
       "      <th>Q047</th>\n",
       "    </tr>\n",
       "  </thead>\n",
       "  <tbody>\n",
       "    <tr>\n",
       "      <th>0</th>\n",
       "      <td>73ff9fcc02f0a99919906c942c2e1a1042cdcf98</td>\n",
       "      <td>41</td>\n",
       "      <td>PR</td>\n",
       "      <td>22</td>\n",
       "      <td>F</td>\n",
       "      <td>3</td>\n",
       "      <td>1</td>\n",
       "      <td>1</td>\n",
       "      <td>5</td>\n",
       "      <td>1</td>\n",
       "      <td>...</td>\n",
       "      <td>40.0</td>\n",
       "      <td>420.0</td>\n",
       "      <td>B</td>\n",
       "      <td>A</td>\n",
       "      <td>C</td>\n",
       "      <td>A</td>\n",
       "      <td>A</td>\n",
       "      <td>C</td>\n",
       "      <td>C</td>\n",
       "      <td>A</td>\n",
       "    </tr>\n",
       "    <tr>\n",
       "      <th>1</th>\n",
       "      <td>71a95f9f1b91a82c65ad94abbdf9f54e6066f968</td>\n",
       "      <td>21</td>\n",
       "      <td>MA</td>\n",
       "      <td>26</td>\n",
       "      <td>F</td>\n",
       "      <td>3</td>\n",
       "      <td>1</td>\n",
       "      <td>1</td>\n",
       "      <td>8</td>\n",
       "      <td>1</td>\n",
       "      <td>...</td>\n",
       "      <td>100.0</td>\n",
       "      <td>580.0</td>\n",
       "      <td>E</td>\n",
       "      <td>B</td>\n",
       "      <td>C</td>\n",
       "      <td>B</td>\n",
       "      <td>B</td>\n",
       "      <td>B</td>\n",
       "      <td>F</td>\n",
       "      <td>A</td>\n",
       "    </tr>\n",
       "    <tr>\n",
       "      <th>2</th>\n",
       "      <td>b38a03232f43b11c9d0788abaf060f7366053b6d</td>\n",
       "      <td>23</td>\n",
       "      <td>CE</td>\n",
       "      <td>21</td>\n",
       "      <td>M</td>\n",
       "      <td>1</td>\n",
       "      <td>1</td>\n",
       "      <td>2</td>\n",
       "      <td>0</td>\n",
       "      <td>2</td>\n",
       "      <td>...</td>\n",
       "      <td>80.0</td>\n",
       "      <td>320.0</td>\n",
       "      <td>E</td>\n",
       "      <td>E</td>\n",
       "      <td>D</td>\n",
       "      <td>B</td>\n",
       "      <td>B</td>\n",
       "      <td>A</td>\n",
       "      <td>NaN</td>\n",
       "      <td>A</td>\n",
       "    </tr>\n",
       "    <tr>\n",
       "      <th>3</th>\n",
       "      <td>70b682d9a3636be23f6120fa9d6b164eb3c6002d</td>\n",
       "      <td>15</td>\n",
       "      <td>PA</td>\n",
       "      <td>27</td>\n",
       "      <td>F</td>\n",
       "      <td>3</td>\n",
       "      <td>1</td>\n",
       "      <td>1</td>\n",
       "      <td>8</td>\n",
       "      <td>1</td>\n",
       "      <td>...</td>\n",
       "      <td>NaN</td>\n",
       "      <td>NaN</td>\n",
       "      <td>H</td>\n",
       "      <td>E</td>\n",
       "      <td>G</td>\n",
       "      <td>B</td>\n",
       "      <td>B</td>\n",
       "      <td>A</td>\n",
       "      <td>NaN</td>\n",
       "      <td>A</td>\n",
       "    </tr>\n",
       "    <tr>\n",
       "      <th>4</th>\n",
       "      <td>715494628a50142ce8cb17191cfe6d0f3cae0934</td>\n",
       "      <td>41</td>\n",
       "      <td>PR</td>\n",
       "      <td>18</td>\n",
       "      <td>M</td>\n",
       "      <td>1</td>\n",
       "      <td>1</td>\n",
       "      <td>2</td>\n",
       "      <td>0</td>\n",
       "      <td>2</td>\n",
       "      <td>...</td>\n",
       "      <td>0.0</td>\n",
       "      <td>320.0</td>\n",
       "      <td>D</td>\n",
       "      <td>H</td>\n",
       "      <td>H</td>\n",
       "      <td>C</td>\n",
       "      <td>B</td>\n",
       "      <td>A</td>\n",
       "      <td>NaN</td>\n",
       "      <td>A</td>\n",
       "    </tr>\n",
       "  </tbody>\n",
       "</table>\n",
       "<p>5 rows × 47 columns</p>\n",
       "</div>"
      ],
      "text/plain": [
       "                               NU_INSCRICAO  CO_UF_RESIDENCIA  \\\n",
       "0  73ff9fcc02f0a99919906c942c2e1a1042cdcf98                41   \n",
       "1  71a95f9f1b91a82c65ad94abbdf9f54e6066f968                21   \n",
       "2  b38a03232f43b11c9d0788abaf060f7366053b6d                23   \n",
       "3  70b682d9a3636be23f6120fa9d6b164eb3c6002d                15   \n",
       "4  715494628a50142ce8cb17191cfe6d0f3cae0934                41   \n",
       "\n",
       "  SG_UF_RESIDENCIA  NU_IDADE TP_SEXO  TP_COR_RACA  TP_NACIONALIDADE  \\\n",
       "0               PR        22       F            3                 1   \n",
       "1               MA        26       F            3                 1   \n",
       "2               CE        21       M            1                 1   \n",
       "3               PA        27       F            3                 1   \n",
       "4               PR        18       M            1                 1   \n",
       "\n",
       "   TP_ST_CONCLUSAO  TP_ANO_CONCLUIU  TP_ESCOLA  ...  NU_NOTA_COMP5  \\\n",
       "0                1                5          1  ...           40.0   \n",
       "1                1                8          1  ...          100.0   \n",
       "2                2                0          2  ...           80.0   \n",
       "3                1                8          1  ...            NaN   \n",
       "4                2                0          2  ...            0.0   \n",
       "\n",
       "   NU_NOTA_REDACAO  Q001  Q002  Q006  Q024  Q025  Q026  Q027  Q047  \n",
       "0            420.0     B     A     C     A     A     C     C     A  \n",
       "1            580.0     E     B     C     B     B     B     F     A  \n",
       "2            320.0     E     E     D     B     B     A   NaN     A  \n",
       "3              NaN     H     E     G     B     B     A   NaN     A  \n",
       "4            320.0     D     H     H     C     B     A   NaN     A  \n",
       "\n",
       "[5 rows x 47 columns]"
      ]
     },
     "execution_count": 107,
     "metadata": {},
     "output_type": "execute_result"
    }
   ],
   "source": [
    "dataset_test.head()"
   ]
  },
  {
   "cell_type": "code",
   "execution_count": 108,
   "metadata": {},
   "outputs": [
    {
     "data": {
      "text/plain": [
       "(4576, 47)"
      ]
     },
     "execution_count": 108,
     "metadata": {},
     "output_type": "execute_result"
    }
   ],
   "source": [
    "dataset_test.shape"
   ]
  },
  {
   "cell_type": "code",
   "execution_count": 109,
   "metadata": {},
   "outputs": [],
   "source": [
    "cod_participants = dataset_test.loc[:, 'NU_INSCRICAO']\n",
    "dataset_test = dataset_test.loc[:, ['NU_NOTA_CN', 'NU_NOTA_CH', 'NU_NOTA_LC', 'NU_NOTA_REDACAO' ]]"
   ]
  },
  {
   "cell_type": "code",
   "execution_count": 110,
   "metadata": {},
   "outputs": [
    {
     "data": {
      "text/html": [
       "<div>\n",
       "<style scoped>\n",
       "    .dataframe tbody tr th:only-of-type {\n",
       "        vertical-align: middle;\n",
       "    }\n",
       "\n",
       "    .dataframe tbody tr th {\n",
       "        vertical-align: top;\n",
       "    }\n",
       "\n",
       "    .dataframe thead th {\n",
       "        text-align: right;\n",
       "    }\n",
       "</style>\n",
       "<table border=\"1\" class=\"dataframe\">\n",
       "  <thead>\n",
       "    <tr style=\"text-align: right;\">\n",
       "      <th></th>\n",
       "      <th>NU_NOTA_CN</th>\n",
       "      <th>NU_NOTA_CH</th>\n",
       "      <th>NU_NOTA_LC</th>\n",
       "      <th>NU_NOTA_REDACAO</th>\n",
       "    </tr>\n",
       "  </thead>\n",
       "  <tbody>\n",
       "    <tr>\n",
       "      <th>0</th>\n",
       "      <td>464.8</td>\n",
       "      <td>443.5</td>\n",
       "      <td>431.8</td>\n",
       "      <td>420.0</td>\n",
       "    </tr>\n",
       "    <tr>\n",
       "      <th>1</th>\n",
       "      <td>391.1</td>\n",
       "      <td>491.1</td>\n",
       "      <td>548.0</td>\n",
       "      <td>580.0</td>\n",
       "    </tr>\n",
       "    <tr>\n",
       "      <th>2</th>\n",
       "      <td>595.9</td>\n",
       "      <td>622.7</td>\n",
       "      <td>613.6</td>\n",
       "      <td>320.0</td>\n",
       "    </tr>\n",
       "    <tr>\n",
       "      <th>3</th>\n",
       "      <td>NaN</td>\n",
       "      <td>NaN</td>\n",
       "      <td>NaN</td>\n",
       "      <td>NaN</td>\n",
       "    </tr>\n",
       "    <tr>\n",
       "      <th>4</th>\n",
       "      <td>592.9</td>\n",
       "      <td>492.6</td>\n",
       "      <td>571.4</td>\n",
       "      <td>320.0</td>\n",
       "    </tr>\n",
       "  </tbody>\n",
       "</table>\n",
       "</div>"
      ],
      "text/plain": [
       "   NU_NOTA_CN  NU_NOTA_CH  NU_NOTA_LC  NU_NOTA_REDACAO\n",
       "0       464.8       443.5       431.8            420.0\n",
       "1       391.1       491.1       548.0            580.0\n",
       "2       595.9       622.7       613.6            320.0\n",
       "3         NaN         NaN         NaN              NaN\n",
       "4       592.9       492.6       571.4            320.0"
      ]
     },
     "execution_count": 110,
     "metadata": {},
     "output_type": "execute_result"
    }
   ],
   "source": [
    "dataset_test.head()"
   ]
  },
  {
   "cell_type": "code",
   "execution_count": 111,
   "metadata": {},
   "outputs": [
    {
     "data": {
      "text/plain": [
       "(4576, 4)"
      ]
     },
     "execution_count": 111,
     "metadata": {},
     "output_type": "execute_result"
    }
   ],
   "source": [
    "dataset_test.shape"
   ]
  },
  {
   "cell_type": "code",
   "execution_count": 112,
   "metadata": {},
   "outputs": [],
   "source": [
    "dataset_test['NU_NOTA_CN'].fillna(dataset_test['NU_NOTA_CN'].mean(), inplace=True)\n",
    "dataset_test['NU_NOTA_CH'].fillna(dataset_test['NU_NOTA_CH'].mean(), inplace=True)\n",
    "dataset_test['NU_NOTA_LC'].fillna(dataset_test['NU_NOTA_LC'].mean(), inplace=True)\n",
    "dataset_test['NU_NOTA_REDACAO'].fillna(dataset_test['NU_NOTA_REDACAO'].mean(), inplace=True)"
   ]
  },
  {
   "cell_type": "code",
   "execution_count": null,
   "metadata": {},
   "outputs": [],
   "source": [
    "#OPTIONAL\n",
    "# scaler_test = StandardScaler()\n",
    "# scaler.fit(dataset_test)\n",
    "# # scaled_df_test = scaler.transform(dataset_test)\n",
    "# col = ['NU_NOTA_CN', 'NU_NOTA_CH', 'NU_NOTA_LC', 'NU_NOTA_REDACAO']\n",
    "# dataset_test = pd.DataFrame(scaled_df_test, columns=col)\n",
    "# dataset_test.head()"
   ]
  },
  {
   "cell_type": "code",
   "execution_count": 113,
   "metadata": {},
   "outputs": [],
   "source": [
    "pred_data = decision_tree_regr.predict(dataset_test)"
   ]
  },
  {
   "cell_type": "code",
   "execution_count": 92,
   "metadata": {},
   "outputs": [
    {
     "ename": "IndexError",
     "evalue": "invalid index to scalar variable.",
     "output_type": "error",
     "traceback": [
      "\u001b[0;31m---------------------------------------------------------------------------\u001b[0m",
      "\u001b[0;31mIndexError\u001b[0m                                Traceback (most recent call last)",
      "\u001b[0;32m<ipython-input-92-5bb604508469>\u001b[0m in \u001b[0;36m<module>\u001b[0;34m\u001b[0m\n\u001b[1;32m      2\u001b[0m \u001b[0;32mfor\u001b[0m \u001b[0mi\u001b[0m \u001b[0;32min\u001b[0m \u001b[0mrange\u001b[0m\u001b[0;34m(\u001b[0m\u001b[0mlen\u001b[0m\u001b[0;34m(\u001b[0m\u001b[0mpred_data\u001b[0m\u001b[0;34m)\u001b[0m\u001b[0;34m)\u001b[0m\u001b[0;34m:\u001b[0m\u001b[0;34m\u001b[0m\u001b[0;34m\u001b[0m\u001b[0m\n\u001b[1;32m      3\u001b[0m \u001b[0;31m#     print(pred_data[i])\u001b[0m\u001b[0;34m\u001b[0m\u001b[0;34m\u001b[0m\u001b[0;34m\u001b[0m\u001b[0m\n\u001b[0;32m----> 4\u001b[0;31m     \u001b[0mone_dim_pred_data\u001b[0m\u001b[0;34m.\u001b[0m\u001b[0mappend\u001b[0m\u001b[0;34m(\u001b[0m\u001b[0mpred_data\u001b[0m\u001b[0;34m[\u001b[0m\u001b[0mi\u001b[0m\u001b[0;34m]\u001b[0m\u001b[0;34m[\u001b[0m\u001b[0;36m0\u001b[0m\u001b[0;34m]\u001b[0m\u001b[0;34m)\u001b[0m\u001b[0;34m\u001b[0m\u001b[0;34m\u001b[0m\u001b[0m\n\u001b[0m\u001b[1;32m      5\u001b[0m \u001b[0;34m\u001b[0m\u001b[0m\n\u001b[1;32m      6\u001b[0m \u001b[0mpred_data\u001b[0m \u001b[0;34m=\u001b[0m \u001b[0mone_dim_pred_data\u001b[0m\u001b[0;34m\u001b[0m\u001b[0;34m\u001b[0m\u001b[0m\n",
      "\u001b[0;31mIndexError\u001b[0m: invalid index to scalar variable."
     ]
    }
   ],
   "source": [
    "one_dim_pred_data = []\n",
    "for i in range(len(pred_data)):\n",
    "#     print(pred_data[i])\n",
    "    one_dim_pred_data.append(pred_data[i][0])\n",
    "    \n",
    "pred_data = one_dim_pred_data"
   ]
  },
  {
   "cell_type": "code",
   "execution_count": 114,
   "metadata": {},
   "outputs": [],
   "source": [
    "data_file = {\n",
    "    'NU_INSCRICAO': cod_participants,\n",
    "    'NU_NOTA_CN': dataset_test['NU_NOTA_CN'],\n",
    "    'NU_NOTA_CH': dataset_test['NU_NOTA_CH'],\n",
    "    'NU_NOTA_LC': dataset_test['NU_NOTA_LC'],\n",
    "    'NU_NOTA_REDACAO': dataset_test['NU_NOTA_REDACAO'],\n",
    "    'NU_NOTA_MT': pred_data\n",
    "}\n",
    "\n",
    "save_pred = pd.DataFrame(data_file, columns= ['NU_INSCRICAO', 'NU_NOTA_CH','NU_NOTA_LC','NU_NOTA_CN','NU_NOTA_REDACAO', 'NU_NOTA_MT'])"
   ]
  },
  {
   "cell_type": "code",
   "execution_count": 115,
   "metadata": {},
   "outputs": [
    {
     "data": {
      "text/html": [
       "<div>\n",
       "<style scoped>\n",
       "    .dataframe tbody tr th:only-of-type {\n",
       "        vertical-align: middle;\n",
       "    }\n",
       "\n",
       "    .dataframe tbody tr th {\n",
       "        vertical-align: top;\n",
       "    }\n",
       "\n",
       "    .dataframe thead th {\n",
       "        text-align: right;\n",
       "    }\n",
       "</style>\n",
       "<table border=\"1\" class=\"dataframe\">\n",
       "  <thead>\n",
       "    <tr style=\"text-align: right;\">\n",
       "      <th></th>\n",
       "      <th>NU_INSCRICAO</th>\n",
       "      <th>NU_NOTA_CH</th>\n",
       "      <th>NU_NOTA_LC</th>\n",
       "      <th>NU_NOTA_CN</th>\n",
       "      <th>NU_NOTA_REDACAO</th>\n",
       "      <th>NU_NOTA_MT</th>\n",
       "    </tr>\n",
       "  </thead>\n",
       "  <tbody>\n",
       "    <tr>\n",
       "      <th>0</th>\n",
       "      <td>73ff9fcc02f0a99919906c942c2e1a1042cdcf98</td>\n",
       "      <td>443.500000</td>\n",
       "      <td>431.800000</td>\n",
       "      <td>464.800000</td>\n",
       "      <td>420.000000</td>\n",
       "      <td>461.2</td>\n",
       "    </tr>\n",
       "    <tr>\n",
       "      <th>1</th>\n",
       "      <td>71a95f9f1b91a82c65ad94abbdf9f54e6066f968</td>\n",
       "      <td>491.100000</td>\n",
       "      <td>548.000000</td>\n",
       "      <td>391.100000</td>\n",
       "      <td>580.000000</td>\n",
       "      <td>475.2</td>\n",
       "    </tr>\n",
       "    <tr>\n",
       "      <th>2</th>\n",
       "      <td>b38a03232f43b11c9d0788abaf060f7366053b6d</td>\n",
       "      <td>622.700000</td>\n",
       "      <td>613.600000</td>\n",
       "      <td>595.900000</td>\n",
       "      <td>320.000000</td>\n",
       "      <td>400.6</td>\n",
       "    </tr>\n",
       "    <tr>\n",
       "      <th>3</th>\n",
       "      <td>70b682d9a3636be23f6120fa9d6b164eb3c6002d</td>\n",
       "      <td>529.195264</td>\n",
       "      <td>514.304205</td>\n",
       "      <td>473.136287</td>\n",
       "      <td>527.491857</td>\n",
       "      <td>373.7</td>\n",
       "    </tr>\n",
       "    <tr>\n",
       "      <th>4</th>\n",
       "      <td>715494628a50142ce8cb17191cfe6d0f3cae0934</td>\n",
       "      <td>492.600000</td>\n",
       "      <td>571.400000</td>\n",
       "      <td>592.900000</td>\n",
       "      <td>320.000000</td>\n",
       "      <td>480.6</td>\n",
       "    </tr>\n",
       "  </tbody>\n",
       "</table>\n",
       "</div>"
      ],
      "text/plain": [
       "                               NU_INSCRICAO  NU_NOTA_CH  NU_NOTA_LC  \\\n",
       "0  73ff9fcc02f0a99919906c942c2e1a1042cdcf98  443.500000  431.800000   \n",
       "1  71a95f9f1b91a82c65ad94abbdf9f54e6066f968  491.100000  548.000000   \n",
       "2  b38a03232f43b11c9d0788abaf060f7366053b6d  622.700000  613.600000   \n",
       "3  70b682d9a3636be23f6120fa9d6b164eb3c6002d  529.195264  514.304205   \n",
       "4  715494628a50142ce8cb17191cfe6d0f3cae0934  492.600000  571.400000   \n",
       "\n",
       "   NU_NOTA_CN  NU_NOTA_REDACAO  NU_NOTA_MT  \n",
       "0  464.800000       420.000000       461.2  \n",
       "1  391.100000       580.000000       475.2  \n",
       "2  595.900000       320.000000       400.6  \n",
       "3  473.136287       527.491857       373.7  \n",
       "4  592.900000       320.000000       480.6  "
      ]
     },
     "execution_count": 115,
     "metadata": {},
     "output_type": "execute_result"
    }
   ],
   "source": [
    "save_pred.head()"
   ]
  },
  {
   "cell_type": "code",
   "execution_count": null,
   "metadata": {},
   "outputs": [],
   "source": [
    "save_pred.to_csv('first_prediction.csv', index=False, header=True)"
   ]
  },
  {
   "cell_type": "code",
   "execution_count": 116,
   "metadata": {},
   "outputs": [],
   "source": [
    "# weights of each part\n",
    "math_weight = 3\n",
    "natural_sciences_weight = 2\n",
    "code_languages_weight = 1.5\n",
    "human_sciences_weight = 1\n",
    "essay_weight = 3\n",
    "\n",
    "# total weights\n",
    "total_weights = math_weight + natural_sciences_weight + code_languages_weight + \\\n",
    "+ human_sciences_weight + essay_weight\n",
    "\n",
    "final_grades = []\n",
    "\n",
    "# For each student calculate the weighted average\n",
    "for student_index in range(save_pred.shape[0]):\n",
    "    current_grade = (save_pred.loc[student_index, 'NU_NOTA_MT'] * math_weight + \\\n",
    "    save_pred.loc[student_index, 'NU_NOTA_CN'] * natural_sciences_weight + \\\n",
    "    save_pred.loc[student_index, 'NU_NOTA_LC'] * code_languages_weight + \\\n",
    "    save_pred.loc[student_index, 'NU_NOTA_CH'] * human_sciences_weight + \\\n",
    "    save_pred.loc[student_index, 'NU_NOTA_REDACAO'] * essay_weight) / total_weights\n",
    "    \n",
    "    # save in final grade list\n",
    "    final_grades.append(current_grade)"
   ]
  },
  {
   "cell_type": "code",
   "execution_count": 117,
   "metadata": {},
   "outputs": [
    {
     "data": {
      "text/plain": [
       "783.4047619047619"
      ]
     },
     "execution_count": 117,
     "metadata": {},
     "output_type": "execute_result"
    }
   ],
   "source": [
    "# max value in weight average's students\n",
    "max(final_grades)"
   ]
  },
  {
   "cell_type": "code",
   "execution_count": 97,
   "metadata": {},
   "outputs": [],
   "source": [
    "data_file['MEDIA_PONDERADA'] = final_grades"
   ]
  },
  {
   "cell_type": "code",
   "execution_count": 98,
   "metadata": {},
   "outputs": [
    {
     "data": {
      "text/plain": [
       "dict_keys(['NU_INSCRICAO', 'NU_NOTA_CN', 'NU_NOTA_CH', 'NU_NOTA_LC', 'NU_NOTA_REDACAO', 'NU_NOTA_MT', 'MEDIA_PONDERADA'])"
      ]
     },
     "execution_count": 98,
     "metadata": {},
     "output_type": "execute_result"
    }
   ],
   "source": [
    "data_file.keys()"
   ]
  },
  {
   "cell_type": "code",
   "execution_count": 48,
   "metadata": {},
   "outputs": [],
   "source": [
    "weighted_average_dataframe = pd.DataFrame(data_file, columns= ['NU_INSCRICAO', \n",
    "        'NU_NOTA_CH','NU_NOTA_LC','NU_NOTA_CN','NU_NOTA_REDACAO', \n",
    "        'NU_NOTA_MT', 'MEDIA_PONDERADA']\n",
    ")"
   ]
  },
  {
   "cell_type": "code",
   "execution_count": 49,
   "metadata": {},
   "outputs": [
    {
     "data": {
      "text/html": [
       "<div>\n",
       "<style scoped>\n",
       "    .dataframe tbody tr th:only-of-type {\n",
       "        vertical-align: middle;\n",
       "    }\n",
       "\n",
       "    .dataframe tbody tr th {\n",
       "        vertical-align: top;\n",
       "    }\n",
       "\n",
       "    .dataframe thead th {\n",
       "        text-align: right;\n",
       "    }\n",
       "</style>\n",
       "<table border=\"1\" class=\"dataframe\">\n",
       "  <thead>\n",
       "    <tr style=\"text-align: right;\">\n",
       "      <th></th>\n",
       "      <th>NU_INSCRICAO</th>\n",
       "      <th>NU_NOTA_CH</th>\n",
       "      <th>NU_NOTA_LC</th>\n",
       "      <th>NU_NOTA_CN</th>\n",
       "      <th>NU_NOTA_REDACAO</th>\n",
       "      <th>NU_NOTA_MT</th>\n",
       "      <th>MEDIA_PONDERADA</th>\n",
       "    </tr>\n",
       "  </thead>\n",
       "  <tbody>\n",
       "    <tr>\n",
       "      <th>0</th>\n",
       "      <td>73ff9fcc02f0a99919906c942c2e1a1042cdcf98</td>\n",
       "      <td>443.500000</td>\n",
       "      <td>431.800000</td>\n",
       "      <td>464.800000</td>\n",
       "      <td>420.000000</td>\n",
       "      <td>370.4</td>\n",
       "      <td>418.285714</td>\n",
       "    </tr>\n",
       "    <tr>\n",
       "      <th>1</th>\n",
       "      <td>71a95f9f1b91a82c65ad94abbdf9f54e6066f968</td>\n",
       "      <td>491.100000</td>\n",
       "      <td>548.000000</td>\n",
       "      <td>391.100000</td>\n",
       "      <td>580.000000</td>\n",
       "      <td>570.6</td>\n",
       "      <td>528.295238</td>\n",
       "    </tr>\n",
       "    <tr>\n",
       "      <th>2</th>\n",
       "      <td>b38a03232f43b11c9d0788abaf060f7366053b6d</td>\n",
       "      <td>622.700000</td>\n",
       "      <td>613.600000</td>\n",
       "      <td>595.900000</td>\n",
       "      <td>320.000000</td>\n",
       "      <td>520.6</td>\n",
       "      <td>500.638095</td>\n",
       "    </tr>\n",
       "    <tr>\n",
       "      <th>3</th>\n",
       "      <td>70b682d9a3636be23f6120fa9d6b164eb3c6002d</td>\n",
       "      <td>529.195264</td>\n",
       "      <td>514.304205</td>\n",
       "      <td>473.136287</td>\n",
       "      <td>527.491857</td>\n",
       "      <td>452.0</td>\n",
       "      <td>493.847592</td>\n",
       "    </tr>\n",
       "    <tr>\n",
       "      <th>4</th>\n",
       "      <td>715494628a50142ce8cb17191cfe6d0f3cae0934</td>\n",
       "      <td>492.600000</td>\n",
       "      <td>571.400000</td>\n",
       "      <td>592.900000</td>\n",
       "      <td>320.000000</td>\n",
       "      <td>678.5</td>\n",
       "      <td>526.761905</td>\n",
       "    </tr>\n",
       "  </tbody>\n",
       "</table>\n",
       "</div>"
      ],
      "text/plain": [
       "                               NU_INSCRICAO  NU_NOTA_CH  NU_NOTA_LC  \\\n",
       "0  73ff9fcc02f0a99919906c942c2e1a1042cdcf98  443.500000  431.800000   \n",
       "1  71a95f9f1b91a82c65ad94abbdf9f54e6066f968  491.100000  548.000000   \n",
       "2  b38a03232f43b11c9d0788abaf060f7366053b6d  622.700000  613.600000   \n",
       "3  70b682d9a3636be23f6120fa9d6b164eb3c6002d  529.195264  514.304205   \n",
       "4  715494628a50142ce8cb17191cfe6d0f3cae0934  492.600000  571.400000   \n",
       "\n",
       "   NU_NOTA_CN  NU_NOTA_REDACAO  NU_NOTA_MT  MEDIA_PONDERADA  \n",
       "0  464.800000       420.000000       370.4       418.285714  \n",
       "1  391.100000       580.000000       570.6       528.295238  \n",
       "2  595.900000       320.000000       520.6       500.638095  \n",
       "3  473.136287       527.491857       452.0       493.847592  \n",
       "4  592.900000       320.000000       678.5       526.761905  "
      ]
     },
     "execution_count": 49,
     "metadata": {},
     "output_type": "execute_result"
    }
   ],
   "source": [
    "weighted_average_dataframe.head()"
   ]
  },
  {
   "cell_type": "code",
   "execution_count": 50,
   "metadata": {},
   "outputs": [],
   "source": [
    "sorted_dataframe = weighted_average_dataframe.sort_values(['MEDIA_PONDERADA'], ascending=False)"
   ]
  },
  {
   "cell_type": "code",
   "execution_count": 52,
   "metadata": {},
   "outputs": [
    {
     "data": {
      "text/html": [
       "<div>\n",
       "<style scoped>\n",
       "    .dataframe tbody tr th:only-of-type {\n",
       "        vertical-align: middle;\n",
       "    }\n",
       "\n",
       "    .dataframe tbody tr th {\n",
       "        vertical-align: top;\n",
       "    }\n",
       "\n",
       "    .dataframe thead th {\n",
       "        text-align: right;\n",
       "    }\n",
       "</style>\n",
       "<table border=\"1\" class=\"dataframe\">\n",
       "  <thead>\n",
       "    <tr style=\"text-align: right;\">\n",
       "      <th></th>\n",
       "      <th>NU_INSCRICAO</th>\n",
       "      <th>NU_NOTA_CH</th>\n",
       "      <th>NU_NOTA_LC</th>\n",
       "      <th>NU_NOTA_CN</th>\n",
       "      <th>NU_NOTA_REDACAO</th>\n",
       "      <th>NU_NOTA_MT</th>\n",
       "      <th>MEDIA_PONDERADA</th>\n",
       "    </tr>\n",
       "  </thead>\n",
       "  <tbody>\n",
       "    <tr>\n",
       "      <th>3140</th>\n",
       "      <td>084d4e847b3809c6ee6622dd2e095156230f471b</td>\n",
       "      <td>716.4</td>\n",
       "      <td>648.5</td>\n",
       "      <td>729.4</td>\n",
       "      <td>980.0</td>\n",
       "      <td>840.8</td>\n",
       "      <td>820.033333</td>\n",
       "    </tr>\n",
       "    <tr>\n",
       "      <th>1773</th>\n",
       "      <td>c363bec718e45cd6bf8cba599cc3990d77f95c22</td>\n",
       "      <td>759.9</td>\n",
       "      <td>708.9</td>\n",
       "      <td>754.7</td>\n",
       "      <td>920.0</td>\n",
       "      <td>817.1</td>\n",
       "      <td>813.709524</td>\n",
       "    </tr>\n",
       "    <tr>\n",
       "      <th>2110</th>\n",
       "      <td>34333ed47110024961ff7a95cc92900ab6fbdd33</td>\n",
       "      <td>713.2</td>\n",
       "      <td>670.5</td>\n",
       "      <td>700.4</td>\n",
       "      <td>920.0</td>\n",
       "      <td>836.9</td>\n",
       "      <td>799.090476</td>\n",
       "    </tr>\n",
       "    <tr>\n",
       "      <th>3707</th>\n",
       "      <td>3b6f2590bb08848ae5b7cd08a41d1cc6a628c1f6</td>\n",
       "      <td>711.2</td>\n",
       "      <td>624.8</td>\n",
       "      <td>685.9</td>\n",
       "      <td>860.0</td>\n",
       "      <td>928.5</td>\n",
       "      <td>798.638095</td>\n",
       "    </tr>\n",
       "    <tr>\n",
       "      <th>107</th>\n",
       "      <td>328ca19128d276eb4fbc309c54ec7f346c803d2f</td>\n",
       "      <td>716.3</td>\n",
       "      <td>697.1</td>\n",
       "      <td>693.3</td>\n",
       "      <td>980.0</td>\n",
       "      <td>760.5</td>\n",
       "      <td>797.147619</td>\n",
       "    </tr>\n",
       "    <tr>\n",
       "      <th>1837</th>\n",
       "      <td>e6375694613198f8db0720d7a8a04d8263116116</td>\n",
       "      <td>696.6</td>\n",
       "      <td>649.9</td>\n",
       "      <td>704.1</td>\n",
       "      <td>980.0</td>\n",
       "      <td>759.6</td>\n",
       "      <td>790.328571</td>\n",
       "    </tr>\n",
       "    <tr>\n",
       "      <th>3406</th>\n",
       "      <td>b434f8f1723aa06a245cc52f60dbe0036d00d227</td>\n",
       "      <td>707.9</td>\n",
       "      <td>698.7</td>\n",
       "      <td>655.1</td>\n",
       "      <td>860.0</td>\n",
       "      <td>881.9</td>\n",
       "      <td>789.700000</td>\n",
       "    </tr>\n",
       "    <tr>\n",
       "      <th>1221</th>\n",
       "      <td>45eab0d008b4971810ca4b2d7b735916d9991a9a</td>\n",
       "      <td>655.3</td>\n",
       "      <td>668.8</td>\n",
       "      <td>630.8</td>\n",
       "      <td>940.0</td>\n",
       "      <td>833.9</td>\n",
       "      <td>784.933333</td>\n",
       "    </tr>\n",
       "    <tr>\n",
       "      <th>2889</th>\n",
       "      <td>ef5f221a0c4ed1747aa949dba2f629e98f3a9438</td>\n",
       "      <td>728.4</td>\n",
       "      <td>706.7</td>\n",
       "      <td>727.2</td>\n",
       "      <td>820.0</td>\n",
       "      <td>840.8</td>\n",
       "      <td>783.357143</td>\n",
       "    </tr>\n",
       "    <tr>\n",
       "      <th>2331</th>\n",
       "      <td>f1f40995a03ec646ede76673c4058d4286ee5d86</td>\n",
       "      <td>711.7</td>\n",
       "      <td>681.7</td>\n",
       "      <td>663.8</td>\n",
       "      <td>820.0</td>\n",
       "      <td>881.9</td>\n",
       "      <td>777.861905</td>\n",
       "    </tr>\n",
       "    <tr>\n",
       "      <th>3272</th>\n",
       "      <td>890014a4e63d88574c62197a24fd43ba5749db83</td>\n",
       "      <td>734.4</td>\n",
       "      <td>688.2</td>\n",
       "      <td>778.9</td>\n",
       "      <td>780.0</td>\n",
       "      <td>817.1</td>\n",
       "      <td>772.933333</td>\n",
       "    </tr>\n",
       "    <tr>\n",
       "      <th>3910</th>\n",
       "      <td>6d4bee056abcea733d36060113427081daae72d1</td>\n",
       "      <td>703.3</td>\n",
       "      <td>596.1</td>\n",
       "      <td>748.3</td>\n",
       "      <td>860.0</td>\n",
       "      <td>812.2</td>\n",
       "      <td>772.442857</td>\n",
       "    </tr>\n",
       "    <tr>\n",
       "      <th>2863</th>\n",
       "      <td>1c6cbf69a4c9bb53f3ca9c5417965c00e9f4404c</td>\n",
       "      <td>686.0</td>\n",
       "      <td>651.9</td>\n",
       "      <td>662.5</td>\n",
       "      <td>940.0</td>\n",
       "      <td>759.0</td>\n",
       "      <td>770.080952</td>\n",
       "    </tr>\n",
       "    <tr>\n",
       "      <th>318</th>\n",
       "      <td>9027f65d4e576928ca59690c280050c53d66506a</td>\n",
       "      <td>767.8</td>\n",
       "      <td>667.8</td>\n",
       "      <td>629.2</td>\n",
       "      <td>920.0</td>\n",
       "      <td>765.4</td>\n",
       "      <td>769.914286</td>\n",
       "    </tr>\n",
       "    <tr>\n",
       "      <th>1051</th>\n",
       "      <td>54899865c8bed8eb4d54c8d4c8ae09a30864290c</td>\n",
       "      <td>670.2</td>\n",
       "      <td>675.3</td>\n",
       "      <td>620.1</td>\n",
       "      <td>880.0</td>\n",
       "      <td>833.9</td>\n",
       "      <td>768.100000</td>\n",
       "    </tr>\n",
       "    <tr>\n",
       "      <th>307</th>\n",
       "      <td>c8feec2a94d996d03534ce935dec7a034667f107</td>\n",
       "      <td>773.6</td>\n",
       "      <td>646.3</td>\n",
       "      <td>717.2</td>\n",
       "      <td>780.0</td>\n",
       "      <td>838.8</td>\n",
       "      <td>765.128571</td>\n",
       "    </tr>\n",
       "    <tr>\n",
       "      <th>2262</th>\n",
       "      <td>968113765be995587d313248ca74216603daac3e</td>\n",
       "      <td>637.9</td>\n",
       "      <td>609.7</td>\n",
       "      <td>675.8</td>\n",
       "      <td>840.0</td>\n",
       "      <td>862.5</td>\n",
       "      <td>763.004762</td>\n",
       "    </tr>\n",
       "    <tr>\n",
       "      <th>3283</th>\n",
       "      <td>d3b6eab5a3d56dc9823cf355b3ac1f647378fd4c</td>\n",
       "      <td>730.3</td>\n",
       "      <td>664.1</td>\n",
       "      <td>616.8</td>\n",
       "      <td>980.0</td>\n",
       "      <td>700.1</td>\n",
       "      <td>761.938095</td>\n",
       "    </tr>\n",
       "    <tr>\n",
       "      <th>2975</th>\n",
       "      <td>47f77c8edf0812b4dc1a2279f060e79c1d40b791</td>\n",
       "      <td>692.9</td>\n",
       "      <td>575.8</td>\n",
       "      <td>692.1</td>\n",
       "      <td>900.0</td>\n",
       "      <td>781.9</td>\n",
       "      <td>760.619048</td>\n",
       "    </tr>\n",
       "    <tr>\n",
       "      <th>2935</th>\n",
       "      <td>7a5c90afaff8a6169ef1ea72181606d79b9d6378</td>\n",
       "      <td>664.5</td>\n",
       "      <td>673.3</td>\n",
       "      <td>646.9</td>\n",
       "      <td>920.0</td>\n",
       "      <td>751.8</td>\n",
       "      <td>760.347619</td>\n",
       "    </tr>\n",
       "  </tbody>\n",
       "</table>\n",
       "</div>"
      ],
      "text/plain": [
       "                                  NU_INSCRICAO  NU_NOTA_CH  NU_NOTA_LC  \\\n",
       "3140  084d4e847b3809c6ee6622dd2e095156230f471b       716.4       648.5   \n",
       "1773  c363bec718e45cd6bf8cba599cc3990d77f95c22       759.9       708.9   \n",
       "2110  34333ed47110024961ff7a95cc92900ab6fbdd33       713.2       670.5   \n",
       "3707  3b6f2590bb08848ae5b7cd08a41d1cc6a628c1f6       711.2       624.8   \n",
       "107   328ca19128d276eb4fbc309c54ec7f346c803d2f       716.3       697.1   \n",
       "1837  e6375694613198f8db0720d7a8a04d8263116116       696.6       649.9   \n",
       "3406  b434f8f1723aa06a245cc52f60dbe0036d00d227       707.9       698.7   \n",
       "1221  45eab0d008b4971810ca4b2d7b735916d9991a9a       655.3       668.8   \n",
       "2889  ef5f221a0c4ed1747aa949dba2f629e98f3a9438       728.4       706.7   \n",
       "2331  f1f40995a03ec646ede76673c4058d4286ee5d86       711.7       681.7   \n",
       "3272  890014a4e63d88574c62197a24fd43ba5749db83       734.4       688.2   \n",
       "3910  6d4bee056abcea733d36060113427081daae72d1       703.3       596.1   \n",
       "2863  1c6cbf69a4c9bb53f3ca9c5417965c00e9f4404c       686.0       651.9   \n",
       "318   9027f65d4e576928ca59690c280050c53d66506a       767.8       667.8   \n",
       "1051  54899865c8bed8eb4d54c8d4c8ae09a30864290c       670.2       675.3   \n",
       "307   c8feec2a94d996d03534ce935dec7a034667f107       773.6       646.3   \n",
       "2262  968113765be995587d313248ca74216603daac3e       637.9       609.7   \n",
       "3283  d3b6eab5a3d56dc9823cf355b3ac1f647378fd4c       730.3       664.1   \n",
       "2975  47f77c8edf0812b4dc1a2279f060e79c1d40b791       692.9       575.8   \n",
       "2935  7a5c90afaff8a6169ef1ea72181606d79b9d6378       664.5       673.3   \n",
       "\n",
       "      NU_NOTA_CN  NU_NOTA_REDACAO  NU_NOTA_MT  MEDIA_PONDERADA  \n",
       "3140       729.4            980.0       840.8       820.033333  \n",
       "1773       754.7            920.0       817.1       813.709524  \n",
       "2110       700.4            920.0       836.9       799.090476  \n",
       "3707       685.9            860.0       928.5       798.638095  \n",
       "107        693.3            980.0       760.5       797.147619  \n",
       "1837       704.1            980.0       759.6       790.328571  \n",
       "3406       655.1            860.0       881.9       789.700000  \n",
       "1221       630.8            940.0       833.9       784.933333  \n",
       "2889       727.2            820.0       840.8       783.357143  \n",
       "2331       663.8            820.0       881.9       777.861905  \n",
       "3272       778.9            780.0       817.1       772.933333  \n",
       "3910       748.3            860.0       812.2       772.442857  \n",
       "2863       662.5            940.0       759.0       770.080952  \n",
       "318        629.2            920.0       765.4       769.914286  \n",
       "1051       620.1            880.0       833.9       768.100000  \n",
       "307        717.2            780.0       838.8       765.128571  \n",
       "2262       675.8            840.0       862.5       763.004762  \n",
       "3283       616.8            980.0       700.1       761.938095  \n",
       "2975       692.1            900.0       781.9       760.619048  \n",
       "2935       646.9            920.0       751.8       760.347619  "
      ]
     },
     "execution_count": 52,
     "metadata": {},
     "output_type": "execute_result"
    }
   ],
   "source": [
    "sorted_dataframe.head(20)"
   ]
  },
  {
   "cell_type": "code",
   "execution_count": 51,
   "metadata": {},
   "outputs": [],
   "source": [
    "# get the 20 rows of better students and save column NU_INSCRICAO and NU_NOTA_MT\n",
    "sorted_dataframe.iloc[0:, [0, -2]].to_csv('answer.csv', index=False, header=True)"
   ]
  },
  {
   "cell_type": "code",
   "execution_count": null,
   "metadata": {},
   "outputs": [],
   "source": []
  }
 ],
 "metadata": {
  "kernelspec": {
   "display_name": "Python 3",
   "language": "python",
   "name": "python3"
  },
  "language_info": {
   "codemirror_mode": {
    "name": "ipython",
    "version": 3
   },
   "file_extension": ".py",
   "mimetype": "text/x-python",
   "name": "python",
   "nbconvert_exporter": "python",
   "pygments_lexer": "ipython3",
   "version": "3.6.8"
  }
 },
 "nbformat": 4,
 "nbformat_minor": 2
}
